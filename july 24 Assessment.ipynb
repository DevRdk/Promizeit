{
 "cells": [
  {
   "cell_type": "markdown",
   "metadata": {},
   "source": [
    "# 1.Define a function to identity the number of times a substring is repeating in a given string\n",
    "\n",
    "* substringCount('str', 'substr') -> 1\n",
    "* substringCount('1234567891122334455', '3') -> 3\n",
    "* substringCount('abccddccc', 'cc') -> 3\n",
    "* substringCount('aaaaaaa', 'aaa' ) -> "
   ]
  },
  {
   "cell_type": "code",
   "execution_count": 15,
   "metadata": {},
   "outputs": [
    {
     "name": "stdout",
     "output_type": "stream",
     "text": [
      "1\n",
      "2\n",
      "2\n"
     ]
    }
   ],
   "source": [
    "def substr(s1,s2):\n",
    "       return s1.count(s2)\n",
    "        \n",
    "print(substr('1234567835333','33'))\n",
    "print(substr('abccddccc','cc'))\n",
    "print(substr('aaaaaaa','aaa'))\n"
   ]
  },
  {
   "cell_type": "code",
   "execution_count": null,
   "metadata": {},
   "outputs": [],
   "source": []
  },
  {
   "cell_type": "markdown",
   "metadata": {},
   "source": [
    "2. Define a function to merge the characters of two strings alternatively. The remaining characters\n",
    "\n",
    "     of the longer string are printed in the same order at the end.\n",
    "\n",
    "* mergeString('abcd', 'abcd') -> 'aabbccdd'\n",
    "* mergeString('abc', '123456') -> 'a1b2c3456'\n",
    "* mergeString('0', '123456') -> '0123456'"
   ]
  },
  {
   "cell_type": "code",
   "execution_count": 4,
   "metadata": {},
   "outputs": [
    {
     "name": "stdout",
     "output_type": "stream",
     "text": [
      "aebfcgdheolNone\n"
     ]
    }
   ],
   "source": [
    "def mergeString(s1,s2):\n",
    "    x=list(s1)\n",
    "    y=list(s2)\n",
    "    len1=len(x)\n",
    "    len2=len(y)\n",
    "    #len3=len1+len2\n",
    "    if(len1==len2):\n",
    "        for i in range(0,len1):\n",
    "            print((x[i]+y[i]),end=\"\")\n",
    "        \n",
    "    elif(len1<len2):\n",
    "        for i in range(0,len1):\n",
    "            print(x[i]+y[i],end=\"\")\n",
    "        for j in range(i+1,len2):\n",
    "            print(y[j],end=\"\")\n",
    "    else:\n",
    "        for i in range(0,len2):\n",
    "            print(x[i]+y[i],end=\"\")\n",
    "        for j in range(i+1,len1):\n",
    "            print(x[j],end=\"\")\n",
    "\n",
    "\n",
    "print(mergeString('abcde','efghol'))\n"
   ]
  },
  {
   "cell_type": "markdown",
   "metadata": {},
   "source": [
    "#  Define a function to validate email addresses based on the following rules.\n",
    "\n",
    "* Email should be in the format username@domain.extension\n",
    "* username must start with an alphabet and can contain lowercase alphabet, digits, hyphen(-) and underscores( _ ).\n",
    "* username must not contain special characters, uppercase letters, whitespaces.\n",
    "* Length of username must be in the range (6, 16)\n",
    "* Domain can only contain lowercase alphabet and digits with length in range (3, 10) . No special characters are allowed\n",
    "* Extension can only contain lower case alphabet and its length must be in the range (2, 4)"
   ]
  },
  {
   "cell_type": "code",
   "execution_count": 6,
   "metadata": {},
   "outputs": [
    {
     "name": "stdout",
     "output_type": "stream",
     "text": [
      "This  is not a valid email address\n"
     ]
    }
   ],
   "source": [
    "import re\n",
    "def isValidEmail(email):\n",
    "     if (6 < len(email) <= 16):\n",
    "        if re.match(\"^[a-z]{6,16}[0-9]{2,3}[@][a-z]{3-10}[.][a-z]{2,4}$\",email):\n",
    "             return True\n",
    "        return False\n",
    "if isValidEmail(\"sandeepjordan1230@gmail.com\") == True :\n",
    "    print(\"This is a valid email address\")\n",
    "else:\n",
    "    print(\"This  is not a valid email address\")"
   ]
  },
  {
   "cell_type": "code",
   "execution_count": 11,
   "metadata": {},
   "outputs": [
    {
     "data": {
      "text/plain": [
       "0"
      ]
     },
     "execution_count": 11,
     "metadata": {},
     "output_type": "execute_result"
    }
   ],
   "source": [
    "def count_sub(substr, string):\n",
    "    pos = string.find(substr)\n",
    "    if pos == -1:\n",
    "        return 0\n",
    "    return 1+count_sub(substr, string[pos+len(substr):])\n",
    "\n",
    "count_sub('abcdef','abc')"
   ]
  },
  {
   "cell_type": "code",
   "execution_count": 23,
   "metadata": {},
   "outputs": [
    {
     "name": "stdout",
     "output_type": "stream",
     "text": [
      "4\n"
     ]
    }
   ],
   "source": [
    "def countFreq(pat, txt): \n",
    "    M = len(pat) \n",
    "    N = len(txt) \n",
    "    res = 0\n",
    "      \n",
    "    # A loop to slide pat[] one by one  \n",
    "    for i in range(N - M + 1): \n",
    "          \n",
    "        # For current index i, check  \n",
    "        # for pattern match  \n",
    "        j = 0\n",
    "        for j in range(M): \n",
    "            if (txt[i + j] != pat[j]): \n",
    "                break\n",
    "  \n",
    "        if (j == M - 1): \n",
    "            res += 1\n",
    "            j = 0\n",
    "    return res \n",
    "      \n",
    "# Driver Code \n",
    "if __name__ == '__main__': \n",
    "    txt = \"abcccddcc\"\n",
    "    pat = \"cc\"\n",
    "    print(countFreq(pat, txt)) "
   ]
  },
  {
   "cell_type": "code",
   "execution_count": null,
   "metadata": {},
   "outputs": [],
   "source": []
  }
 ],
 "metadata": {
  "kernelspec": {
   "display_name": "Python 3",
   "language": "python",
   "name": "python3"
  },
  "language_info": {
   "codemirror_mode": {
    "name": "ipython",
    "version": 3
   },
   "file_extension": ".py",
   "mimetype": "text/x-python",
   "name": "python",
   "nbconvert_exporter": "python",
   "pygments_lexer": "ipython3",
   "version": "3.7.3"
  }
 },
 "nbformat": 4,
 "nbformat_minor": 2
}
