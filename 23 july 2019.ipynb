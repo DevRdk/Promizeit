{
 "cells": [
  {
   "cell_type": "markdown",
   "metadata": {},
   "source": [
    "# List\n",
    "\n",
    "\n"
   ]
  },
  {
   "cell_type": "code",
   "execution_count": 47,
   "metadata": {},
   "outputs": [
    {
     "name": "stdout",
     "output_type": "stream",
     "text": [
      "[0, 1, 3, 5, 7, 8, 14, 90]\n",
      "[1, 3, 5, 7, 8, 14, 90]\n"
     ]
    }
   ],
   "source": [
    "list=[0,1,90,3,14,5,'python',7,8]\n",
    "list.pop(6)\n",
    "list.sort()\n",
    "print(list)\n",
    "print(list[1:])\n",
    "\n"
   ]
  },
  {
   "cell_type": "code",
   "execution_count": 46,
   "metadata": {},
   "outputs": [
    {
     "name": "stdout",
     "output_type": "stream",
     "text": [
      "['My', 'name', 'is', 'sandeep']\n",
      "['name', 'is', 'sandeep']\n"
     ]
    }
   ],
   "source": [
    "s=\"My name is sandeep\"\n",
    "s1=s.split(\" \")\n",
    "print(s1)\n",
    "print(s1[1:])\n"
   ]
  },
  {
   "cell_type": "markdown",
   "metadata": {},
   "source": [
    "#  Date : 23-07-2019\n",
    "* Tuples\n",
    "* Dictionaries\n",
    "* Linear and Binary Search\n",
    "* Data Arithmetic\n",
    "* Iterators and Generators\n",
    "* Functional Programming"
   ]
  },
  {
   "cell_type": "code",
   "execution_count": 52,
   "metadata": {},
   "outputs": [
    {
     "name": "stdout",
     "output_type": "stream",
     "text": [
      "[0, 1, 3, 5, 7, 8, 14, 90, 1, 2, 3]\n"
     ]
    }
   ],
   "source": [
    "tuple_type=(1,2,3)\n",
    "list.extend(tuple_type)\n",
    "print(list)"
   ]
  },
  {
   "cell_type": "code",
   "execution_count": 94,
   "metadata": {},
   "outputs": [
    {
     "name": "stdout",
     "output_type": "stream",
     "text": [
      "4\n",
      "Hello [0, 1, 3, 5, 7, 8, 14, 90, 1, 2, 3]\n"
     ]
    },
    {
     "data": {
      "text/plain": [
       "90"
      ]
     },
     "execution_count": 94,
     "metadata": {},
     "output_type": "execute_result"
    }
   ],
   "source": [
    "print(str(list[6])[1])\n",
    "print(\"Hello\",list)\n",
    "max(list)"
   ]
  },
  {
   "cell_type": "code",
   "execution_count": 91,
   "metadata": {},
   "outputs": [
    {
     "name": "stdout",
     "output_type": "stream",
     "text": [
      "Present at 6\n"
     ]
    }
   ],
   "source": [
    "def findelement(list,key):\n",
    "    for i in range(0,len(list)):\n",
    "        if list[i]==key:\n",
    "            print(\"Present at\",i)\n",
    "\n",
    "        else:\n",
    "            continue\n",
    "    \n",
    "    \n",
    "findelement(list,14)"
   ]
  },
  {
   "cell_type": "code",
   "execution_count": 101,
   "metadata": {},
   "outputs": [
    {
     "name": "stdout",
     "output_type": "stream",
     "text": [
      "90\n"
     ]
    }
   ],
   "source": [
    "def maximumelem(list):\n",
    "    max=0\n",
    "    for item in list:\n",
    "        if item > max:\n",
    "            max=item\n",
    "    print(max)\n",
    "\n",
    "maximumelem(list)\n",
    "        "
   ]
  },
  {
   "cell_type": "markdown",
   "metadata": {},
   "source": [
    "# Dictionaries"
   ]
  },
  {
   "cell_type": "code",
   "execution_count": 124,
   "metadata": {},
   "outputs": [
    {
     "name": "stdout",
     "output_type": "stream",
     "text": [
      "101\n",
      "dict_keys(['num1', 'num2', 'num3']) dict_values([101, 101, 103])\n"
     ]
    },
    {
     "data": {
      "text/plain": [
       "101"
      ]
     },
     "execution_count": 124,
     "metadata": {},
     "output_type": "execute_result"
    }
   ],
   "source": [
    "d1={'num1':101,'num2':101}\n",
    "print(d1['num1'])\n",
    "d1['num3']=103\n",
    "\n",
    "x=d1.keys()\n",
    "y=d1.values()\n",
    "print(x,y)\n",
    "d1.pop('num1')"
   ]
  },
  {
   "cell_type": "code",
   "execution_count": 139,
   "metadata": {},
   "outputs": [
    {
     "name": "stdout",
     "output_type": "stream",
     "text": [
      "Sandeep \t 5678901234 \n",
      "Mahesh \t 234567890 \n",
      "Raju \t 3456789012 \n"
     ]
    }
   ],
   "source": [
    "phone={'Sandeep':123456789,'Mahesh':234567890,'Raju':3456789012}\n",
    "#print(phone)\n",
    "#phone['Harish']=4567890123\n",
    "#print(phone)\n",
    "#phone.pop('Mahesh')\n",
    "phone['Sandeep']=5678901234\n",
    "#print(phone)\n",
    "for i,k in phone.items():\n",
    "    print(i,\"\\t\",k,\"\\n\",end=\"\")\n",
    "    "
   ]
  },
  {
   "cell_type": "markdown",
   "metadata": {},
   "source": [
    "# Regular Expressions\n"
   ]
  },
  {
   "cell_type": "code",
   "execution_count": 5,
   "metadata": {},
   "outputs": [
    {
     "name": "stdout",
     "output_type": "stream",
     "text": [
      "Enter rollno16r01a05h2\n",
      "Enter number2142434\n",
      " invalid !!\n"
     ]
    }
   ],
   "source": [
    "import re \n",
    "  \n",
    "def main(): \n",
    "    Rollno = input(\"Enter rollno\")\n",
    "    number = input(\"Enter number\")\n",
    "    reg = \"[1][6][r][0][1][a][0][5][hH][0-9]\"\n",
    "    num = \"^[6-9][0-9]{9}$\"\n",
    "      \n",
    "    # compiling regex \n",
    "    pat = re.compile(reg) \n",
    "    \n",
    "    pat1 = re.compile(num)\n",
    "      \n",
    "    # searching regex                  \n",
    "    mat = re.search(pat, Rollno) \n",
    "    mat1 = re.search(pat1,number)\n",
    "      \n",
    "    # validating conditions \n",
    "    if mat and mat1: \n",
    "        print(\"Password and Phone number  is valid.\") \n",
    "    else: \n",
    "        print(\" invalid !!\") \n",
    "  \n",
    "# Driver Code      \n",
    "if __name__ == '__main__': \n",
    "    main() "
   ]
  },
  {
   "cell_type": "code",
   "execution_count": 13,
   "metadata": {},
   "outputs": [
    {
     "name": "stdout",
     "output_type": "stream",
     "text": [
      "This  is not a valid email address\n"
     ]
    }
   ],
   "source": [
    "import re\n",
    "def isValidEmail(email):\n",
    "     if len(email) > 7:\n",
    "        if re.match(\"^[a-z][a-z0-9_.]{5,14}[@][a-z0-9]{3-12}[.][a-z]{2,3}$\",email):\n",
    "             return True\n",
    "        return False\n",
    "if isValidEmail(\"sandeepjordan0111@gmail.com\") == True :\n",
    "    print(\"This is a valid email address\")\n",
    "else:\n",
    "    print(\"This  is not a valid email address\")"
   ]
  },
  {
   "cell_type": "code",
   "execution_count": 17,
   "metadata": {},
   "outputs": [
    {
     "name": "stdout",
     "output_type": "stream",
     "text": [
      "15 : 36 : 27 : Year : 2019\n",
      "['MAXYEAR', 'MINYEAR', '__builtins__', '__cached__', '__doc__', '__file__', '__loader__', '__name__', '__package__', '__spec__', 'date', 'datetime', 'datetime_CAPI', 'sys', 'time', 'timedelta', 'timezone', 'tzinfo']\n"
     ]
    }
   ],
   "source": [
    "import datetime\n",
    "now=datetime.datetime.now()\n",
    "print(now.hour,\":\",now.minute,\":\",now.second,\":\",\"Year :\",now.year)\n",
    "print(dir(datetime))"
   ]
  },
  {
   "cell_type": "code",
   "execution_count": 18,
   "metadata": {},
   "outputs": [
    {
     "data": {
      "text/plain": [
       "True"
      ]
     },
     "execution_count": 18,
     "metadata": {},
     "output_type": "execute_result"
    }
   ],
   "source": [
    "import calendar\n",
    "calendar.isleap(2020)\n"
   ]
  },
  {
   "cell_type": "code",
   "execution_count": null,
   "metadata": {},
   "outputs": [],
   "source": []
  }
 ],
 "metadata": {
  "kernelspec": {
   "display_name": "Python 3",
   "language": "python",
   "name": "python3"
  },
  "language_info": {
   "codemirror_mode": {
    "name": "ipython",
    "version": 3
   },
   "file_extension": ".py",
   "mimetype": "text/x-python",
   "name": "python",
   "nbconvert_exporter": "python",
   "pygments_lexer": "ipython3",
   "version": "3.7.3"
  }
 },
 "nbformat": 4,
 "nbformat_minor": 2
}
