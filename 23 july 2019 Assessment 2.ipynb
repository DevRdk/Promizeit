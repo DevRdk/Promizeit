{
 "cells": [
  {
   "cell_type": "markdown",
   "metadata": {},
   "source": [
    "### Write a Python program to get the 4th element from first  and 4th element from last of a tuple. \n",
    "#( \"p\" , \"y\" , \"t\", \"h\" , \"o\" , \"n\" , \"p\" , \"r\" , \"o\" , \"g\" , \"r\" , \"a\" , \"m\" , \"m\" , \"i\" , \"n\" , \"g\" )"
   ]
  },
  {
   "cell_type": "code",
   "execution_count": 3,
   "metadata": {},
   "outputs": [
    {
     "name": "stdout",
     "output_type": "stream",
     "text": [
      "h o\n"
     ]
    }
   ],
   "source": [
    "\n",
    "s=\"pythonpr\"\n",
    "\n",
    "print(s[3],s[-4])\n",
    "\n",
    "    "
   ]
  },
  {
   "cell_type": "code",
   "execution_count": 4,
   "metadata": {},
   "outputs": [
    {
     "name": "stdout",
     "output_type": "stream",
     "text": [
      "89\n"
     ]
    }
   ],
   "source": [
    "#Write a python program to find largest number in a given list with out using max() .[10, 7 , 0 ,14 , 4 , 2 ] \n",
    "#Answer 3\n",
    "def maximumelem(list):\n",
    "    max=0\n",
    "    for item in list:\n",
    "        if item > max:\n",
    "            max=item\n",
    "    print(max)\n",
    "    \n",
    "list=[1,2,3,4,6,89,20]\n",
    "maximumelem(list)\n",
    "        "
   ]
  },
  {
   "cell_type": "code",
   "execution_count": 29,
   "metadata": {},
   "outputs": [
    {
     "name": "stdout",
     "output_type": "stream",
     "text": [
      "{'0': 10, '1': 20}\n",
      "{'0': 10, '1': 20, '2': 30}\n"
     ]
    }
   ],
   "source": [
    "#Write a Python script to add a key to a dictionary. \n",
    "\n",
    "     #Sample Dictionary : {0: 10, 1: 20}\n",
    "\n",
    "     #Expected Result : {0: 10, 1: 20, 2: 30}\n",
    "#Answer 5\n",
    "A={'0':10,'1':20}\n",
    "print(A)\n",
    "A['2']=30\n",
    "print(A)\n"
   ]
  },
  {
   "cell_type": "code",
   "execution_count": 30,
   "metadata": {},
   "outputs": [
    {
     "name": "stdout",
     "output_type": "stream",
     "text": [
      "(1, 2, 3, 4, 5, 6)\n"
     ]
    }
   ],
   "source": [
    "# Write a Python program to convert a given  list to a tuple. [5, 10, 7, 4, 15, 3] \n",
    "#Answer 1\n",
    "list=[1,2,3,4,5,6]\n",
    "lt=tuple(list)\n",
    "print(lt)"
   ]
  },
  {
   "cell_type": "code",
   "execution_count": 42,
   "metadata": {},
   "outputs": [
    {
     "name": "stdout",
     "output_type": "stream",
     "text": [
      "{1: 1, 2: 4, 3: 9, 4: 16, 5: 25}\n"
     ]
    }
   ],
   "source": [
    "# Write a Python script to generate and print a dictionary that contains a number (between 1 and n) in the              form (x, x*x) \n",
    "\n",
    "     #Sample Dictionary ( n = 5) : \n",
    "\n",
    "     #Expected Output : {1: 1, 2: 4, 3: 9, 4: 16, 5: 25} \n",
    "\n",
    "\n",
    "\n",
    "#Answer 6\n",
    "def dic(n):\n",
    "    dic={}\n",
    "    for i in range(1,n+1):\n",
    "        dic[i]=i*i\n",
    "    print(dic)  \n",
    "    \n",
    "dic(5)"
   ]
  },
  {
   "cell_type": "code",
   "execution_count": 57,
   "metadata": {},
   "outputs": [
    {
     "name": "stdout",
     "output_type": "stream",
     "text": [
      "[12, 90]\n"
     ]
    }
   ],
   "source": [
    "#\n",
    "#Answer 4\n",
    "def isEven(n):\n",
    "    a=[]\n",
    "    p=0\n",
    "    for i in n:\n",
    "        if(i%2==0):\n",
    "            a.append(i)\n",
    "    print(a)\n",
    "list=[12,45,23,45,67,90]\n",
    "isEven(list)"
   ]
  },
  {
   "cell_type": "code",
   "execution_count": null,
   "metadata": {},
   "outputs": [],
   "source": [
    " "
   ]
  }
 ],
 "metadata": {
  "kernelspec": {
   "display_name": "Python 3",
   "language": "python",
   "name": "python3"
  },
  "language_info": {
   "codemirror_mode": {
    "name": "ipython",
    "version": 3
   },
   "file_extension": ".py",
   "mimetype": "text/x-python",
   "name": "python",
   "nbconvert_exporter": "python",
   "pygments_lexer": "ipython3",
   "version": "3.7.3"
  }
 },
 "nbformat": 4,
 "nbformat_minor": 2
}
