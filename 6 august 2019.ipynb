{
 "cells": [
  {
   "cell_type": "markdown",
   "metadata": {},
   "source": [
    "# Machine Learning"
   ]
  },
  {
   "cell_type": "markdown",
   "metadata": {},
   "source": [
    "# Continuous data consists of decimal values\n",
    "# Discrete data consists of a round number(such as shoes size,no of students etc)\n",
    "\n",
    "\n",
    "\n",
    "\n",
    "# Types of Machine Learning alogorithms :\n",
    "\n",
    "# 1. Supervised Learning (Both input and output are provided to the machine)\n",
    "\n",
    "# 2. Unsupervised Learning(No output is provided, it comes up with the predictions, internal implementation is not seen, Only the input is provided)\n",
    "\n"
   ]
  },
  {
   "cell_type": "markdown",
   "metadata": {},
   "source": [
    "# Regression Analysis:\n",
    "* Relationship between the input and output.\n",
    "* Change in input leading to change in output.\n",
    "* If any input changes the output is also affected.\n",
    "\n",
    "\n",
    "# Linear Regression (If output is  Continuous)\n",
    "   #  * Simple Linear Regression (One input One output(One to One Relation))\n",
    "   # * Multiple Linear Regression (More than one input and Single Output(Many to One relation))\n",
    "# Logistic Regression(If output is Discrete)\n",
    "\n"
   ]
  },
  {
   "cell_type": "markdown",
   "metadata": {},
   "source": [
    "There are several types of linear regression analyses available to researchers.\n",
    "\n",
    "    Simple linear regression\n",
    "    1 dependent variable (interval or ratio), 1 independent variable (interval or ratio or dichotomous)\n",
    "\n",
    "    Multiple linear regression\n",
    "    1 dependent variable (interval or ratio) , 2+ independent variables (interval or ratio or dichotomous)\n",
    "\n",
    "    Logistic regression\n",
    "    1 dependent variable (dichotomous), 2+ independent variable(s) (interval or ratio or dichotomous)\n",
    "\n",
    "    Ordinal regression\n",
    "    1 dependent variable (ordinal), 1+ independent variable(s) (nominal or dichotomous)\n",
    "\n",
    "    Multinominal regression\n",
    "    1 dependent variable (nominal), 1+ independent variable(s) (interval or ratio or dichotomous)\n",
    "\n",
    "    Discriminant analysis\n",
    "    1 dependent variable (nominal), 1+ independent variable(s) (interval or ratio)\n"
   ]
  },
  {
   "cell_type": "markdown",
   "metadata": {},
   "source": [
    "# Equation for SLR: y=b0+b1x+E\n",
    "# Equation for MLR: y=b0+b1x+b2x2+b3x3+.........+bnxn\n",
    "  # b0 indicates intercept\n",
    "  # b1 is the coefficient which determines how unit change in x will cause change in y\n",
    "  \n",
    "  \n",
    "  \n",
    "# R squared value is used to measure the performance of the linear regression\n",
    "\n",
    "# R sqaured lies b/w 0-100%\n",
    " # Higher the R squared value the better the model fits"
   ]
  },
  {
   "cell_type": "markdown",
   "metadata": {},
   "source": [
    "##### R-squared (R2) is a statistical measure that represents the proportion of the variance for a dependent variable that's explained by an independent variable or variables in a regression model. ... It may also be known as the coefficient of determination."
   ]
  },
  {
   "cell_type": "markdown",
   "metadata": {},
   "source": [
    "# Corelation:\n",
    "# It is used to check the relationship b/w two vairables.\n",
    "# It is opposite to regression\n",
    "# It is basically used to find the strength between two variables\n",
    "# Corelation b/w x and y is same as y and x\n",
    "# It aims in finding numerial values in finding the relation\n",
    "# It us ysed ti represent the linear relationship b/w variables.\n",
    "# Corelation values lies b/w -1 to +1\n",
    "# +1 ---->strong positive corelation\n",
    "# -1 ----->strong negative Corelation\n",
    "# 0.8+----> good positive corelation\n",
    "# 0.5-0.8+----> moderate positive corelation\n"
   ]
  },
  {
   "cell_type": "markdown",
   "metadata": {},
   "source": [
    "\n",
    "# linearity :\n",
    "    * converting all the columns into a single format(either decimal or log values etc)\n",
    "# errors should be independent of each other( should not predict looking at others errors)\n",
    "# Normality  about the errors\n",
    "* When we plot errors it should be approx a straight line\n",
    "# Input variables should be equally reliable(input variables should be relevant to each other)\n",
    "\n",
    "# LINE (Linearity-Input-Normality-Errors)"
   ]
  },
  {
   "cell_type": "code",
   "execution_count": null,
   "metadata": {},
   "outputs": [],
   "source": []
  },
  {
   "cell_type": "code",
   "execution_count": null,
   "metadata": {},
   "outputs": [],
   "source": []
  }
 ],
 "metadata": {
  "kernelspec": {
   "display_name": "Python 3",
   "language": "python",
   "name": "python3"
  },
  "language_info": {
   "codemirror_mode": {
    "name": "ipython",
    "version": 3
   },
   "file_extension": ".py",
   "mimetype": "text/x-python",
   "name": "python",
   "nbconvert_exporter": "python",
   "pygments_lexer": "ipython3",
   "version": "3.7.3"
  }
 },
 "nbformat": 4,
 "nbformat_minor": 2
}
