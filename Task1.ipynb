{
 "cells": [
  {
   "cell_type": "code",
   "execution_count": null,
   "metadata": {},
   "outputs": [],
   "source": []
  },
  {
   "cell_type": "markdown",
   "metadata": {},
   "source": [
    "#     You are given n words. Some words may repeat. For each word, output its number of occurrences. The output order should correspond with the input order of appearance of the word. \n",
    "\n",
    "# First line of input contains the total number of words n. Next n lines contain words that need to processed.\n",
    "\n",
    "# First line of the output should contain the total number distinct words. Second line of output must contain the frequency of words the same order of their appearance as in the input"
   ]
  },
  {
   "cell_type": "markdown",
   "metadata": {},
   "source": [
    "# Method 1"
   ]
  },
  {
   "cell_type": "code",
   "execution_count": 100,
   "metadata": {},
   "outputs": [
    {
     "name": "stdout",
     "output_type": "stream",
     "text": [
      "['abcd', 'ijkl', 'pqrs']\n",
      "[3, 1, 1]\n"
     ]
    }
   ],
   "source": [
    "li=['abcd','ijkl','abcd','pqrs','abcd']\n",
    "mylist = list(dict.fromkeys(li))\n",
    "print(mylist)\n",
    "word=[]\n",
    "for i in range(len(mylist)):\n",
    "    count=0\n",
    "    for j in range(0,len(li)):\n",
    "        if(mylist[i]==li[j]):\n",
    "            count=count+1\n",
    "    word.append(count)\n",
    "print(word)\n",
    "        \n",
    "    "
   ]
  },
  {
   "cell_type": "markdown",
   "metadata": {},
   "source": [
    "# Method 2"
   ]
  },
  {
   "cell_type": "code",
   "execution_count": 35,
   "metadata": {},
   "outputs": [
    {
     "name": "stdout",
     "output_type": "stream",
     "text": [
      "3\n"
     ]
    }
   ],
   "source": [
    "li=['abcd','ijkl','abcd','pqrs','abcd']\n",
    "print(li.count('abcd'))"
   ]
  },
  {
   "cell_type": "markdown",
   "metadata": {},
   "source": [
    "# Define a function to validate email addresses based on the following rules.¶\n",
    "\n",
    "   * Email should be in the format username@domain.extension\n",
    "   * username must start with an alphabet and can contain lowercase alphabet, digits, hyphen(-) and underscores( _ ).\n",
    "   * username must not contain special characters, uppercase letters, whitespaces.\n",
    "   * Length of username must be in the range (6, 16)\n",
    "   * Domain can only contain lowercase alphabet and digits with length in range (3, 10) . No special characters are allowed\n",
    "    * Extension can only contain lower case alphabet and its length must be in the range (2, 4)\n",
    "\n"
   ]
  },
  {
   "cell_type": "code",
   "execution_count": 132,
   "metadata": {},
   "outputs": [
    {
     "name": "stdout",
     "output_type": "stream",
     "text": [
      "This  is not a valid email address\n"
     ]
    }
   ],
   "source": [
    "import re\n",
    "def isValidEmail(email):\n",
    "     if (6 < len(email) <= 16):\n",
    "        if re.match(\"^[a-z]{6,16}[0-9]{2,3}[@][a-z]{3-10}[.][a-z]{2,4}$\",email):\n",
    "             return True\n",
    "        return False\n",
    "if isValidEmail(\"sandeepjordan1230@gmail.com\") == True :\n",
    "    print(\"This is a valid email address\")\n",
    "else:\n",
    "    print(\"This  is not a valid email address\")"
   ]
  },
  {
   "cell_type": "markdown",
   "metadata": {},
   "source": [
    "# 3 . Define a function that take an array of integers A, and an integer K and returns the longest possible sub-set of A i.e A' such that the sum of no two elements in A' is divisible by K.\n",
    "\n",
    "* First line in input contains the length of A and the integer K. Second line of input contains len(A) space-separated integers.\n",
    "\n",
    "* Output must contain the length of A' list\n",
    "\n",
    "* Sample Input : 4 3\n",
    "\n",
    "* 1 7 2 4\n",
    "\n",
    "* Sample Output : 3"
   ]
  },
  {
   "cell_type": "code",
   "execution_count": 159,
   "metadata": {},
   "outputs": [
    {
     "name": "stdout",
     "output_type": "stream",
     "text": [
      "enter3\n",
      "3\n"
     ]
    }
   ],
   "source": [
    "def subsets(n,k):\n",
    "    q=[]\n",
    "    count=0\n",
    "    for i in range(len(li)):\n",
    "        for j in range(i+1,len(li)):\n",
    "            sum=li[i]+li[j]\n",
    "            if(sum%k!=0):\n",
    "                count=count+1\n",
    "    print(count)\n",
    "li=[1,7,2,4]\n",
    "k=int(input(\"enter\"))\n",
    "subsets(li,k)"
   ]
  },
  {
   "cell_type": "markdown",
   "metadata": {},
   "source": [
    "# 4.Python program to add two matrices."
   ]
  },
  {
   "cell_type": "code",
   "execution_count": 176,
   "metadata": {},
   "outputs": [
    {
     "name": "stdout",
     "output_type": "stream",
     "text": [
      "[3 7 9]\n"
     ]
    }
   ],
   "source": [
    "import numpy as np\n",
    "a=np.array([1,2,3])\n",
    "b=np.array([2,5,6])\n",
    "c=a+b\n",
    "print(c)\n",
    "\n",
    "\n"
   ]
  },
  {
   "cell_type": "markdown",
   "metadata": {},
   "source": [
    "# Disarium or not"
   ]
  },
  {
   "cell_type": "code",
   "execution_count": 133,
   "metadata": {},
   "outputs": [
    {
     "name": "stdout",
     "output_type": "stream",
     "text": [
      "Not Disarium\n"
     ]
    }
   ],
   "source": [
    "def Disarium(n):\n",
    "    count=len(str(n))\n",
    "    sum=0\n",
    "    q=n\n",
    "    while(n!=0):\n",
    "        n=n%10\n",
    "        p=n**count\n",
    "        sum=sum+p\n",
    "        count=count-1\n",
    "        n=n//10\n",
    "    if(sum==q):\n",
    "        print(\"Disarium\")\n",
    "    print(\"Not Disarium\")\n",
    "Disarium(13)\n",
    "    "
   ]
  },
  {
   "cell_type": "code",
   "execution_count": null,
   "metadata": {},
   "outputs": [],
   "source": []
  },
  {
   "cell_type": "markdown",
   "metadata": {},
   "source": [
    "# Python program to print all Happy Numbers between 1 to 100. "
   ]
  },
  {
   "cell_type": "code",
   "execution_count": 18,
   "metadata": {},
   "outputs": [],
   "source": [
    "for i in range(1,100):\n",
    "    sum1=0\n",
    "    num=i\n",
    "    while(sum1!=1 and sum1!=4):\n",
    "        sum1=0\n",
    "        while(num>0):\n",
    "            p1=num%10\n",
    "            p2=p1**2\n",
    "            sum1=sum1+p2\n",
    "            num=num//10\n",
    "        num=sum1\n",
    "    if(sum==1):\n",
    "        print(num)\n",
    "\n",
    "    \n",
    "\n",
    "    \n",
    "        \n",
    "        "
   ]
  },
  {
   "cell_type": "markdown",
   "metadata": {},
   "source": [
    "# Traspose of a matrix"
   ]
  },
  {
   "cell_type": "code",
   "execution_count": 25,
   "metadata": {},
   "outputs": [
    {
     "name": "stdout",
     "output_type": "stream",
     "text": [
      "Before Tranpose :\n",
      "[[ 1  2  3]\n",
      " [11 12 13]\n",
      " [21 22 23]]\n",
      "After Transpose :\n",
      "[[ 1 11 21]\n",
      " [ 2 12 22]\n",
      " [ 3 13 23]]\n"
     ]
    }
   ],
   "source": [
    "import numpy as np\n",
    "a=np.array([[1,2,3],[11,12,13],[21,22,23]])\n",
    "print(\"Before Tranpose :\")\n",
    "print(a)\n",
    "print(\"After Transpose :\")\n",
    "print(a.transpose())"
   ]
  },
  {
   "cell_type": "markdown",
   "metadata": {},
   "source": [
    "# Python program to  remove punctuations from a string."
   ]
  },
  {
   "cell_type": "markdown",
   "metadata": {},
   "source": [
    "# Method 1"
   ]
  },
  {
   "cell_type": "code",
   "execution_count": null,
   "metadata": {},
   "outputs": [],
   "source": [
    "def Punctuation(string): \n",
    "    b = ''',@'''\n",
    "    for x in string.lower(): \n",
    "        if x in b:\n",
    "            string = string.replace(x, \"\") \n",
    "\n",
    "    print(string) \n",
    "string = \"Sandeep@jordan,m\"\n",
    "Punctuation(string) \n"
   ]
  },
  {
   "cell_type": "markdown",
   "metadata": {},
   "source": [
    "# Method 2"
   ]
  },
  {
   "cell_type": "code",
   "execution_count": 90,
   "metadata": {},
   "outputs": [
    {
     "name": "stdout",
     "output_type": "stream",
     "text": [
      "abc12321cbasafasafdsas\n"
     ]
    }
   ],
   "source": [
    "\n",
    "s = 'abc12321cba,safa,safds,as'\n",
    "\n",
    "print(s.translate({ord(','): None}))\n"
   ]
  },
  {
   "cell_type": "code",
   "execution_count": null,
   "metadata": {},
   "outputs": [],
   "source": []
  }
 ],
 "metadata": {
  "kernelspec": {
   "display_name": "Python 3",
   "language": "python",
   "name": "python3"
  },
  "language_info": {
   "codemirror_mode": {
    "name": "ipython",
    "version": 3
   },
   "file_extension": ".py",
   "mimetype": "text/x-python",
   "name": "python",
   "nbconvert_exporter": "python",
   "pygments_lexer": "ipython3",
   "version": "3.7.3"
  }
 },
 "nbformat": 4,
 "nbformat_minor": 2
}
