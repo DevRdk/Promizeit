{
 "cells": [
  {
   "cell_type": "markdown",
   "metadata": {},
   "source": [
    "# Logistic Regression\n",
    "### We use if the output is discrete\n",
    "### Example: If a person is prepared for exam or not (Yes or No)\n",
    "### It is also known as classification og data\n",
    "### It doesn't give output but It gives the probabilitity of the data. It just predicts for the Yes or No\n",
    "### The curve is called as Sigmoic curve.\n",
    "    "
   ]
  },
  {
   "cell_type": "markdown",
   "metadata": {},
   "source": [
    "# Types of logistic regression\n",
    "## 1. Binary L R \n",
    "## 2. Nominal L R\n",
    "## 3. Ordinal L R\n",
    "\n",
    "\n",
    "# Confusion matrix: It measures the effectiveness of the model.\n",
    "# It is a  Matrix "
   ]
  },
  {
   "cell_type": "markdown",
   "metadata": {},
   "source": [
    "##### Error \n",
    "##### Mean Absolute error\n",
    "##### RMSE\n",
    "##### True positive \n",
    "##### True negative\n",
    "##### False positive\n",
    "##### False negative\n",
    "##### True positive rate\n",
    "##### False positive rate\n",
    "##### Accuracy\n",
    "##### ROC curve\n",
    "##### AOC  curve\n",
    "\n"
   ]
  },
  {
   "cell_type": "code",
   "execution_count": null,
   "metadata": {},
   "outputs": [],
   "source": []
  },
  {
   "cell_type": "code",
   "execution_count": null,
   "metadata": {},
   "outputs": [],
   "source": []
  },
  {
   "cell_type": "code",
   "execution_count": null,
   "metadata": {},
   "outputs": [],
   "source": []
  },
  {
   "cell_type": "code",
   "execution_count": null,
   "metadata": {},
   "outputs": [],
   "source": []
  }
 ],
 "metadata": {
  "kernelspec": {
   "display_name": "Python 3",
   "language": "python",
   "name": "python3"
  },
  "language_info": {
   "codemirror_mode": {
    "name": "ipython",
    "version": 3
   },
   "file_extension": ".py",
   "mimetype": "text/x-python",
   "name": "python",
   "nbconvert_exporter": "python",
   "pygments_lexer": "ipython3",
   "version": "3.7.3"
  }
 },
 "nbformat": 4,
 "nbformat_minor": 2
}
