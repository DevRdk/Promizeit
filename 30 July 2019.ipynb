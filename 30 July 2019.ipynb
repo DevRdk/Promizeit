{
 "cells": [
  {
   "cell_type": "markdown",
   "metadata": {},
   "source": [
    "# OOPS"
   ]
  },
  {
   "cell_type": "code",
   "execution_count": 18,
   "metadata": {},
   "outputs": [
    {
     "name": "stdout",
     "output_type": "stream",
     "text": [
      "62.83185307179586\n"
     ]
    }
   ],
   "source": [
    "class Abc:\n",
    "    def sum(self,a):\n",
    "        print(2*math.pi*a)\n",
    "obj=Abc()\n",
    "obj.sum(10)"
   ]
  },
  {
   "cell_type": "code",
   "execution_count": 22,
   "metadata": {},
   "outputs": [
    {
     "name": "stdout",
     "output_type": "stream",
     "text": [
      "314.1592653589793\n"
     ]
    }
   ],
   "source": [
    "class first:\n",
    "    def __init__(self,r):\n",
    "        self.r=r\n",
    "    def area(self):\n",
    "        print(math.pi*self.r*self.r)\n",
    "obj=first(10)\n",
    "obj.area()"
   ]
  },
  {
   "cell_type": "markdown",
   "metadata": {},
   "source": [
    "# Multilevel"
   ]
  },
  {
   "cell_type": "code",
   "execution_count": 75,
   "metadata": {},
   "outputs": [
    {
     "name": "stdout",
     "output_type": "stream",
     "text": [
      "Plays\n",
      "Sings\n",
      "GrandParent\n"
     ]
    }
   ],
   "source": [
    "class grandparent:\n",
    "    def abc(self,r):\n",
    "        self.r=r\n",
    "        print(self.r)\n",
    "class child1(grandparent):\n",
    "    def sing(self,p):\n",
    "        self.p=p\n",
    "        print(self.p)\n",
    "class child2(child1):\n",
    "    def play(self,q):\n",
    "        self.q=q\n",
    "        print(self.q)\n",
    "        \n",
    "obj2=child2()\n",
    "obj2.play('Plays')\n",
    "obj2.sing('Sings')\n",
    "obj2.abc('GrandParent')\n"
   ]
  },
  {
   "cell_type": "markdown",
   "metadata": {},
   "source": [
    "# Single level"
   ]
  },
  {
   "cell_type": "code",
   "execution_count": 81,
   "metadata": {},
   "outputs": [
    {
     "name": "stdout",
     "output_type": "stream",
     "text": [
      "GrandParent\n",
      "Child\n"
     ]
    }
   ],
   "source": [
    "class GP:\n",
    "    def grandparent(self,p):\n",
    "        self.p=p\n",
    "        print(self.p)\n",
    "class Children(GP):\n",
    "    def child(self,q):\n",
    "        self.q=q\n",
    "        print(self.q)\n",
    "obj=Children()\n",
    "obj.grandparent('GrandParent')\n",
    "obj.child('Child')"
   ]
  },
  {
   "cell_type": "markdown",
   "metadata": {},
   "source": [
    "# Q1,Q2"
   ]
  },
  {
   "cell_type": "code",
   "execution_count": 91,
   "metadata": {},
   "outputs": [
    {
     "name": "stdout",
     "output_type": "stream",
     "text": [
      "Hi Sandy Jordan\n",
      "hi jack\n",
      "10\n",
      "100\n",
      "100\n"
     ]
    }
   ],
   "source": [
    "class A:\n",
    "    __sum=100                # Dunder class variable\n",
    "    def p(self,q):\n",
    "        self.temp=10        #member variable\n",
    "        self.num=20\n",
    "        self.q=q\n",
    "        print(\"hi \" +self.q)  \n",
    "        print(self.temp)\n",
    "    def d(self):\n",
    "        print(self.__sum)\n",
    "    \n",
    "class B(A):\n",
    "    def q(self,m,l):\n",
    "        self.m=m\n",
    "        self.l=l\n",
    "        print(\"Hi \"+self.m+\" \"+self.l)\n",
    "        \n",
    "        \n",
    "obj2=B()\n",
    "obj2.q('Sandy','Jordan')\n",
    "obj2.p('jack')\n",
    "obj2.d()\n",
    "print(obj2._A__sum)   #  a private variable that is defined in a class is being accessed outside a class\n"
   ]
  },
  {
   "cell_type": "markdown",
   "metadata": {},
   "source": [
    "# Q3.Operator Overloading"
   ]
  },
  {
   "cell_type": "code",
   "execution_count": 5,
   "metadata": {},
   "outputs": [
    {
     "name": "stdout",
     "output_type": "stream",
     "text": [
      "60 33\n"
     ]
    }
   ],
   "source": [
    "class A1:\n",
    "    def __init__(self,a,b):\n",
    "        self.a=a\n",
    "        self.b=b\n",
    "        \n",
    "    def __add__(self,other):\n",
    "        print(self.a+other.a,self.b+other.b)\n",
    "        \n",
    "obj=A1(20,13)\n",
    "obj1=A1(40,20)\n",
    "obj3=obj+obj1"
   ]
  },
  {
   "cell_type": "code",
   "execution_count": 6,
   "metadata": {},
   "outputs": [],
   "source": []
  },
  {
   "cell_type": "code",
   "execution_count": null,
   "metadata": {},
   "outputs": [],
   "source": []
  },
  {
   "cell_type": "code",
   "execution_count": null,
   "metadata": {},
   "outputs": [],
   "source": []
  },
  {
   "cell_type": "code",
   "execution_count": null,
   "metadata": {},
   "outputs": [],
   "source": []
  },
  {
   "cell_type": "code",
   "execution_count": null,
   "metadata": {},
   "outputs": [],
   "source": []
  },
  {
   "cell_type": "code",
   "execution_count": null,
   "metadata": {},
   "outputs": [],
   "source": []
  }
 ],
 "metadata": {
  "kernelspec": {
   "display_name": "Python 3",
   "language": "python",
   "name": "python3"
  },
  "language_info": {
   "codemirror_mode": {
    "name": "ipython",
    "version": 3
   },
   "file_extension": ".py",
   "mimetype": "text/x-python",
   "name": "python",
   "nbconvert_exporter": "python",
   "pygments_lexer": "ipython3",
   "version": "3.7.3"
  }
 },
 "nbformat": 4,
 "nbformat_minor": 2
}
