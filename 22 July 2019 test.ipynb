{
 "cells": [
  {
   "cell_type": "code",
   "execution_count": 2,
   "metadata": {},
   "outputs": [
    {
     "name": "stdout",
     "output_type": "stream",
     "text": [
      "Enter some Number :153\n",
      "YES IT IS ARMSTRONG\n"
     ]
    }
   ],
   "source": [
    "Number=int(input(\"Enter some Number :\"))\n",
    "res=0\n",
    "p=Number\n",
    "while(Number!=0):\n",
    "    n=Number%10\n",
    "    q=n*n*n\n",
    "    res=res+q\n",
    "    Number=Number//10\n",
    "if res==p:\n",
    "    print(\"YES IT IS ARMSTRONG\")\n",
    "else:\n",
    "    print(\"NO\")"
   ]
  },
  {
   "cell_type": "code",
   "execution_count": 4,
   "metadata": {},
   "outputs": [
    {
     "name": "stdout",
     "output_type": "stream",
     "text": [
      "Enter some number3\n",
      "6\n"
     ]
    }
   ],
   "source": [
    "a=int(input(\"Enter some number\"))\n",
    "res=0\n",
    "for i in range(0,a+1):\n",
    "    res=res+i\n",
    "print(res)"
   ]
  },
  {
   "cell_type": "code",
   "execution_count": 5,
   "metadata": {},
   "outputs": [
    {
     "name": "stdout",
     "output_type": "stream",
     "text": [
      "79\n"
     ]
    },
    {
     "data": {
      "text/plain": [
       "'97'"
      ]
     },
     "execution_count": 5,
     "metadata": {},
     "output_type": "execute_result"
    }
   ],
   "source": [
    "S='7386797271'\n",
    "x=(S[4::1])\n",
    "y=(x[1::-1])\n",
    "print(y[::-1])\n",
    "x\n",
    "y"
   ]
  },
  {
   "cell_type": "code",
   "execution_count": null,
   "metadata": {},
   "outputs": [],
   "source": []
  }
 ],
 "metadata": {
  "kernelspec": {
   "display_name": "Python 3",
   "language": "python",
   "name": "python3"
  },
  "language_info": {
   "codemirror_mode": {
    "name": "ipython",
    "version": 3
   },
   "file_extension": ".py",
   "mimetype": "text/x-python",
   "name": "python",
   "nbconvert_exporter": "python",
   "pygments_lexer": "ipython3",
   "version": "3.7.3"
  }
 },
 "nbformat": 4,
 "nbformat_minor": 2
}
